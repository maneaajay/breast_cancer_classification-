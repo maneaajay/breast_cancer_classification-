{
  "nbformat": 4,
  "nbformat_minor": 0,
  "metadata": {
    "colab": {
      "name": "Breast Cancer Classification.ipynb",
      "provenance": [],
      "private_outputs": true
    },
    "kernelspec": {
      "name": "python3",
      "display_name": "Python 3"
    },
    "accelerator": "GPU"
  },
  "cells": [
    {
      "cell_type": "code",
      "metadata": {
        "id": "hRJymPPzCEA8",
        "colab_type": "code",
        "colab": {}
      },
      "source": [
        "\n",
        "import numpy as np # linear algebra\n",
        "import pandas as pd # data processing, CSV file I/O (e.g. pd.read_csv)\n",
        "\n",
        "# Input data files are available in the read-only \"../input/\" directory\n",
        "# For example, running this (by clicking run or pressing Shift+Enter) will list all files under the input directory\n",
        "\n",
        "import os\n",
        "for dirname, _, filenames in os.walk('/kaggle/input'):\n",
        "    for filename in filenames:\n",
        "        print(os.path.join(dirname, filename))\n"
      ],
      "execution_count": null,
      "outputs": []
    },
    {
      "cell_type": "code",
      "metadata": {
        "id": "DPom35JQCGti",
        "colab_type": "code",
        "colab": {}
      },
      "source": [
        "#Loading the Dataset from Sklearn\n",
        "from sklearn.datasets import load_breast_cancer"
      ],
      "execution_count": null,
      "outputs": []
    },
    {
      "cell_type": "code",
      "metadata": {
        "id": "u-ap9g5qCNEg",
        "colab_type": "code",
        "colab": {}
      },
      "source": [
        "#loading the Breast cancer data in a variable\n",
        "\n",
        "cancer = load_breast_cancer()"
      ],
      "execution_count": null,
      "outputs": []
    },
    {
      "cell_type": "code",
      "metadata": {
        "id": "8ki5YaB2CaMs",
        "colab_type": "code",
        "colab": {}
      },
      "source": [
        "#printing the Data in Dictionary format\n",
        "\n",
        "cancer"
      ],
      "execution_count": null,
      "outputs": []
    },
    {
      "cell_type": "code",
      "metadata": {
        "id": "fr_-gjnSCdKW",
        "colab_type": "code",
        "colab": {}
      },
      "source": [
        "#Printing the keys of the Dictionary, to get enough details about the data.\n",
        "cancer.keys()"
      ],
      "execution_count": null,
      "outputs": []
    },
    {
      "cell_type": "code",
      "metadata": {
        "id": "LHtBSBtxCk4R",
        "colab_type": "code",
        "colab": {}
      },
      "source": [
        "#Will basically gve you broad description of Breast Cancer Dataset\n",
        "print(cancer['DESCR'])"
      ],
      "execution_count": null,
      "outputs": []
    },
    {
      "cell_type": "code",
      "metadata": {
        "id": "kI3MD6gnCnzn",
        "colab_type": "code",
        "colab": {}
      },
      "source": [
        "#Printing the Target column, which is either 0=Malignenet or 1=Benign\n",
        "print(cancer['target'])"
      ],
      "execution_count": null,
      "outputs": []
    },
    {
      "cell_type": "code",
      "metadata": {
        "id": "wAVStTJ1C9O0",
        "colab_type": "code",
        "colab": {}
      },
      "source": [
        "#printing the Target names\n",
        "print(cancer['target_names'])"
      ],
      "execution_count": null,
      "outputs": []
    },
    {
      "cell_type": "code",
      "metadata": {
        "id": "7LQfzHUBDKSj",
        "colab_type": "code",
        "colab": {}
      },
      "source": [
        "#All the column names which are also known as features\n",
        "print(cancer['feature_names'])"
      ],
      "execution_count": null,
      "outputs": []
    },
    {
      "cell_type": "code",
      "metadata": {
        "id": "cy_RJE7kDNtK",
        "colab_type": "code",
        "colab": {}
      },
      "source": [
        "#Shape of the Data which is 569 Rows and 30 Columns\n",
        "cancer['data'].shape"
      ],
      "execution_count": null,
      "outputs": []
    },
    {
      "cell_type": "code",
      "metadata": {
        "id": "4GRyq_WlDQWd",
        "colab_type": "code",
        "colab": {}
      },
      "source": [
        "#Creating a Pandas DataFrame to deal with the data in a much easier way.\n",
        "#While creating this DataFrame I added the additional column which is 'target' to the df_cancer using np.append().\n",
        "df_cancer=pd.DataFrame(np.c_[cancer['data'], cancer['target']], columns = np.append(cancer['feature_names'], ['target']))"
      ],
      "execution_count": null,
      "outputs": []
    },
    {
      "cell_type": "code",
      "metadata": {
        "id": "2-4WMyW8DU1o",
        "colab_type": "code",
        "colab": {}
      },
      "source": [
        "#to print the first 5 rows of the data, also lookaround for the target column which I've added. \n",
        "df_cancer.head()\n"
      ],
      "execution_count": null,
      "outputs": []
    },
    {
      "cell_type": "code",
      "metadata": {
        "id": "exx93OVEDcEK",
        "colab_type": "code",
        "colab": {}
      },
      "source": [
        "#importing the libraries to plot the Data\n",
        "import matplotlib.pyplot as plt\n",
        "import seaborn as sns"
      ],
      "execution_count": null,
      "outputs": []
    },
    {
      "cell_type": "code",
      "metadata": {
        "id": "nIkhjzuGDgQ3",
        "colab_type": "code",
        "colab": {}
      },
      "source": [
        "df_cancer.describe()"
      ],
      "execution_count": null,
      "outputs": []
    },
    {
      "cell_type": "code",
      "metadata": {
        "id": "wWT3gps5DlGB",
        "colab_type": "code",
        "colab": {}
      },
      "source": [
        "df_cancer.dtypes"
      ],
      "execution_count": null,
      "outputs": []
    },
    {
      "cell_type": "code",
      "metadata": {
        "id": "k-3AcYn4DqPI",
        "colab_type": "code",
        "colab": {}
      },
      "source": [
        "df_cancer.columns"
      ],
      "execution_count": null,
      "outputs": []
    },
    {
      "cell_type": "code",
      "metadata": {
        "id": "efOndyP7DvBF",
        "colab_type": "code",
        "colab": {}
      },
      "source": [
        "#taking only 5 variable out of 30 just to showcase how powerfull seaborn library actually is\n",
        "sns.pairplot(df_cancer, vars = ['mean radius', 'mean texture', 'mean perimeter', 'mean area',\n",
        " 'mean smoothness'])"
      ],
      "execution_count": null,
      "outputs": []
    },
    {
      "cell_type": "code",
      "metadata": {
        "id": "aNIaPeDfDzfm",
        "colab_type": "code",
        "colab": {}
      },
      "source": [
        "#in above plotting we are not able to differentiate much,so we use 'hue' on target column, which will seperate the two(Malignent, Benign).\n",
        "sns.pairplot(df_cancer, hue = 'target', vars = ['mean radius', 'mean texture', 'mean perimeter', 'mean area',\n",
        " 'mean smoothness'])\n",
        "\n",
        "#blue points are malignent case which are severe cases or life threatning cases.\n",
        "#orange points are not very severe or life threatning"
      ],
      "execution_count": null,
      "outputs": []
    },
    {
      "cell_type": "code",
      "metadata": {
        "id": "mgYpWA2qD6x7",
        "colab_type": "code",
        "colab": {}
      },
      "source": [
        "#will simply tell you how many Malignent and Benign cases we have.\n",
        "#Malignent= 200~ and Benign = 350~ approx.\n",
        "sns.countplot(df_cancer['target'])"
      ],
      "execution_count": null,
      "outputs": []
    },
    {
      "cell_type": "code",
      "metadata": {
        "id": "Tazoom-ZECPB",
        "colab_type": "code",
        "colab": {}
      },
      "source": [
        "#plotting a scatter plot diagram for mean area anf mean smoothness, you can plot any feature combination scatterplot.\n",
        "\n",
        "sns.scatterplot(x = 'mean area', y = 'mean smoothness', hue = 'target', data = df_cancer)"
      ],
      "execution_count": null,
      "outputs": []
    },
    {
      "cell_type": "code",
      "metadata": {
        "id": "Os56_AANEE79",
        "colab_type": "code",
        "colab": {}
      },
      "source": [
        "#here we made a heatmap figure of correlation of all the columns\n",
        "\n",
        "plt.figure(figsize = (20,10))\n",
        "sns.heatmap(df_cancer.corr(), annot = True)"
      ],
      "execution_count": null,
      "outputs": []
    },
    {
      "cell_type": "code",
      "metadata": {
        "id": "9bxmw9q9EIw8",
        "colab_type": "code",
        "colab": {}
      },
      "source": [
        "#train test split\n",
        "x=df_cancer.drop(['target'],axis=1)"
      ],
      "execution_count": null,
      "outputs": []
    },
    {
      "cell_type": "code",
      "metadata": {
        "id": "j3CwKbYfEa7o",
        "colab_type": "code",
        "colab": {}
      },
      "source": [
        "x.head()"
      ],
      "execution_count": null,
      "outputs": []
    },
    {
      "cell_type": "code",
      "metadata": {
        "id": "aaze24vSEc69",
        "colab_type": "code",
        "colab": {}
      },
      "source": [
        "y=df_cancer['target']\n",
        "y.head()"
      ],
      "execution_count": null,
      "outputs": []
    },
    {
      "cell_type": "code",
      "metadata": {
        "id": "8AfyrZz7EvU6",
        "colab_type": "code",
        "colab": {}
      },
      "source": [
        "#'test_size' is what is the size of the test data whicg is 15% of the whole data. we had 569 rows which will get split by train = 483 and test = 86. \n",
        "#look below for better understanding, we've printed all the 4 values for X_train, X_text, y_train, y_test.\n",
        "#also make sure the X is capital and y is small..\n",
        "from sklearn.model_selection import train_test_split\n",
        "X_train,X_test,y_train,y_test = train_test_split(x,y,test_size=0.15,random_state=5)"
      ],
      "execution_count": null,
      "outputs": []
    },
    {
      "cell_type": "code",
      "metadata": {
        "id": "17OHnaCtFi3J",
        "colab_type": "code",
        "colab": {}
      },
      "source": [
        "X_train"
      ],
      "execution_count": null,
      "outputs": []
    },
    {
      "cell_type": "code",
      "metadata": {
        "id": "h9r2L2YNFpqX",
        "colab_type": "code",
        "colab": {}
      },
      "source": [
        "y_train"
      ],
      "execution_count": null,
      "outputs": []
    },
    {
      "cell_type": "code",
      "metadata": {
        "id": "RTuSvE6CFr-y",
        "colab_type": "code",
        "colab": {}
      },
      "source": [
        "X_test"
      ],
      "execution_count": null,
      "outputs": []
    },
    {
      "cell_type": "code",
      "metadata": {
        "id": "awbi-I3LFz6Y",
        "colab_type": "code",
        "colab": {}
      },
      "source": [
        "from sklearn.preprocessing import StandardScaler\n",
        "sc= StandardScaler()\n",
        "X_train_sc=sc.fit_transform(X_train)\n",
        "X_test_sc=sc.transform(X_test)"
      ],
      "execution_count": null,
      "outputs": []
    },
    {
      "cell_type": "code",
      "metadata": {
        "id": "-GGGkDQkGbp1",
        "colab_type": "code",
        "colab": {}
      },
      "source": [
        "from sklearn.metrics import confusion_matrix,classification_report,accuracy_score"
      ],
      "execution_count": null,
      "outputs": []
    },
    {
      "cell_type": "code",
      "metadata": {
        "id": "4S5YGmxcGnQQ",
        "colab_type": "code",
        "colab": {}
      },
      "source": [
        "from sklearn.tree import DecisionTreeClassifier\n",
        "DT_classifier = DecisionTreeClassifier(criterion = 'entropy',random_state=19)\n",
        "DT_classifier.fit(X_train,y_train)\n",
        "y_pred_DT = DT_classifier.predict(X_test)\n",
        "accuracy_score(y_test,y_pred_DT)"
      ],
      "execution_count": null,
      "outputs": []
    },
    {
      "cell_type": "code",
      "metadata": {
        "id": "DRr2XHUOHcHd",
        "colab_type": "code",
        "colab": {}
      },
      "source": [
        "from sklearn.neighbors import KNeighborsClassifier\n",
        "knn_classifier = KNeighborsClassifier(n_neighbors = 7, metric = 'minkowski', p = 2)\n",
        "knn_classifier.fit(X_train, y_train)\n",
        "y_pred_knn = knn_classifier.predict(X_test)\n",
        "accuracy_score(y_test, y_pred_knn)"
      ],
      "execution_count": null,
      "outputs": []
    },
    {
      "cell_type": "code",
      "metadata": {
        "id": "N19ogD9-HuRK",
        "colab_type": "code",
        "colab": {}
      },
      "source": [
        "from sklearn.metrics import confusion_matrix\n",
        "cm = confusion_matrix(y_test,y_pred_DT)\n",
        "plt.title('Heatmap of Confusion Matrix', fontsize = 10)\n",
        "sns.heatmap(cm, annot = True)\n",
        "plt.show()"
      ],
      "execution_count": null,
      "outputs": []
    },
    {
      "cell_type": "code",
      "metadata": {
        "id": "vVgEheMDH0ya",
        "colab_type": "code",
        "colab": {}
      },
      "source": [
        "cm = confusion_matrix(y_test,y_pred_knn)\n",
        "plt.title('Heatmap of Confusion Matrix', fontsize = 10)\n",
        "sns.heatmap(cm, annot = True)\n",
        "plt.show()"
      ],
      "execution_count": null,
      "outputs": []
    },
    {
      "cell_type": "code",
      "metadata": {
        "id": "S3Ydzuy6H-MU",
        "colab_type": "code",
        "colab": {}
      },
      "source": [
        ""
      ],
      "execution_count": null,
      "outputs": []
    }
  ]
}